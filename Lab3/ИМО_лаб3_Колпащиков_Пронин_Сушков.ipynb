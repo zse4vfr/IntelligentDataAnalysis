{
  "cells": [
    {
      "cell_type": "code",
      "execution_count": null,
      "metadata": {
        "colab": {
          "base_uri": "https://localhost:8080/"
        },
        "id": "2nHpCsP8GyOi",
        "outputId": "63aba924-eaad-4d71-afc0-d13559df9c8f"
      },
      "outputs": [
        {
          "output_type": "stream",
          "name": "stdout",
          "text": [
            "Requirement already satisfied: pygmo in /usr/local/lib/python3.10/dist-packages (2.19.5)\n",
            "Requirement already satisfied: numpy in /usr/local/lib/python3.10/dist-packages (from pygmo) (1.25.2)\n",
            "Requirement already satisfied: cloudpickle in /usr/local/lib/python3.10/dist-packages (from pygmo) (2.2.1)\n",
            "Requirement already satisfied: scipy in /usr/local/lib/python3.10/dist-packages (from pygmo) (1.11.4)\n"
          ]
        }
      ],
      "source": [
        "!pip install pygmo"
      ]
    },
    {
      "cell_type": "code",
      "source": [
        "def print_board(board_representation):\n",
        "  def print_x_in_row(row_length, x_position):\n",
        "      print()\n",
        "      for _ in range(row_length):\n",
        "          print('---', end='')\n",
        "      print('\\n|', end='')\n",
        "      for i in range(row_length):\n",
        "          if i == x_position:\n",
        "              print('{} |'.format('Q'), end='')\n",
        "          else:\n",
        "              print('  |', end='')\n",
        "      #print()\n",
        "\n",
        "  def print_board_bottom(row_length):\n",
        "      print()\n",
        "      for _ in range(row_length):\n",
        "          print('---', end='')\n",
        "\n",
        "  num_of_rows = len(board_representation)\n",
        "  row_length = num_of_rows    # rows == columns in a chessboard\n",
        "\n",
        "  for row in range(num_of_rows):\n",
        "      print_x_in_row(row_length, board_representation[row])\n",
        "\n",
        "  print_board_bottom(row_length)\n",
        "  print()"
      ],
      "metadata": {
        "id": "a1x_sPtsuUjs"
      },
      "execution_count": null,
      "outputs": []
    },
    {
      "cell_type": "code",
      "source": [
        "def check_solution(solution):\n",
        "    n = len(solution)\n",
        "    # Check rows\n",
        "    if len(set(solution)) != n:\n",
        "        return False\n",
        "\n",
        "    # Check diagonals\n",
        "    for i in range(n):\n",
        "        for j in range(i+1, n):\n",
        "            if abs(i - j) == abs(solution[i] - solution[j]):\n",
        "                return False\n",
        "\n",
        "    return True"
      ],
      "metadata": {
        "id": "aDJeXGHesuhv"
      },
      "execution_count": null,
      "outputs": []
    },
    {
      "cell_type": "code",
      "source": [
        "def initial(initial_position):\n",
        "  temp = []\n",
        "  for i in range(len(initial_position)):\n",
        "    if initial_position[i] == 1:\n",
        "      temp.append(i % 8)\n",
        "  return temp"
      ],
      "metadata": {
        "id": "FNWEshqjvwJl"
      },
      "execution_count": null,
      "outputs": []
    },
    {
      "cell_type": "code",
      "execution_count": null,
      "metadata": {
        "colab": {
          "base_uri": "https://localhost:8080/"
        },
        "id": "vySKuJ-veFN6",
        "outputId": "6ba33831-634c-4295-e35d-e7f0079e8894"
      },
      "outputs": [
        {
          "output_type": "stream",
          "name": "stdout",
          "text": [
            "Best solution: [2, 6, 1, 7, 4, 0, 3, 5]\n",
            "Данное расположение ферзей является решением задачи 8 дам! \n",
            "\n",
            "------------------------\n",
            "|Q |  |  |  |  |  |  |  |\n",
            "------------------------\n",
            "|Q |  |  |  |  |  |  |  |\n",
            "------------------------\n",
            "|Q |  |  |  |  |  |  |  |\n",
            "------------------------\n",
            "|Q |  |  |  |  |  |  |  |\n",
            "------------------------\n",
            "|Q |  |  |  |  |  |  |  |\n",
            "------------------------\n",
            "|Q |  |  |  |  |  |  |  |\n",
            "------------------------\n",
            "|Q |  |  |  |  |  |  |  |\n",
            "------------------------\n",
            "|Q |  |  |  |  |  |  |  |\n",
            "------------------------\n",
            "\n",
            "------------------------\n",
            "|  |  |Q |  |  |  |  |  |\n",
            "------------------------\n",
            "|  |  |  |  |  |  |Q |  |\n",
            "------------------------\n",
            "|  |Q |  |  |  |  |  |  |\n",
            "------------------------\n",
            "|  |  |  |  |  |  |  |Q |\n",
            "------------------------\n",
            "|  |  |  |  |Q |  |  |  |\n",
            "------------------------\n",
            "|Q |  |  |  |  |  |  |  |\n",
            "------------------------\n",
            "|  |  |  |Q |  |  |  |  |\n",
            "------------------------\n",
            "|  |  |  |  |  |Q |  |  |\n",
            "------------------------\n"
          ]
        }
      ],
      "source": [
        "import numpy as np\n",
        "import pygmo as pg\n",
        "\n",
        "class QueensProblem:\n",
        "  def __init__(self, num_queens, initial_position):\n",
        "      self.num_queens = num_queens\n",
        "      self.initial_position = initial(initial_position)\n",
        "\n",
        "  def fitness(self, x):\n",
        "    x = [int(xi) for xi in x]\n",
        "    conflicts = 0\n",
        "    for i in range(self.num_queens):\n",
        "      for j in range(i + 1, self.num_queens):\n",
        "        # print(f'x[i] {x[i]} x[j] {x[j]} i/8 {i / 8} j/8 {j / 8}')\n",
        "        if x[i] == x[j] or abs(i - j) == abs(x[i] - x[j]):\n",
        "          conflicts += 1\n",
        "    return [conflicts]\n",
        "\n",
        "  def get_bounds(self):\n",
        "    return ([0] * self.num_queens, [self.num_queens ] * self.num_queens)\n",
        "\n",
        "  def get_name(self):\n",
        "      return \"N-Queens Problem\"\n",
        "\n",
        "  def get_integer_vector_size(self):\n",
        "      return self.num_queens\n",
        "\n",
        "  def get_seed(self):\n",
        "      return self.initial_position\n",
        "\n",
        "# create an instance of the custom N-Queens problem with initial position\n",
        "queens_initial_position = [1, 0, 0, 0, 0, 0, 0, 0,\n",
        "                           1, 0, 0, 0, 0, 0, 0, 0,\n",
        "                           1, 0, 0, 0, 0, 0, 0, 0,\n",
        "                           1, 0, 0, 0, 0, 0, 0, 0,\n",
        "                           1, 0, 0, 0, 0, 0, 0, 0,\n",
        "                           1, 0, 0, 0, 0, 0, 0, 0,\n",
        "                           1, 0, 0, 0, 0, 0, 0, 0,\n",
        "                           1, 0, 0, 0, 0, 0, 0, 0]  # initial position\n",
        "queens_prob = QueensProblem(num_queens=8, initial_position=queens_initial_position)\n",
        "\n",
        "# create a population\n",
        "pop = pg.population(prob=queens_prob, size=1000)\n",
        "\n",
        "# create an algorithm\n",
        "algo = pg.algorithm(pg.de(gen=200))\n",
        "\n",
        "# evolve the population\n",
        "pop = algo.evolve(pop)\n",
        "\n",
        "# print the best solution\n",
        "best_individual = pop.champion_x\n",
        "best_individual = [int(i) for i in best_individual]\n",
        "# Округляем значения генов лучшего индивидуума до ближайшего целого числа\n",
        "print(\"Best solution:\", best_individual)\n",
        "is_solution_valid = check_solution(best_individual)\n",
        "\n",
        "if is_solution_valid:\n",
        "    print(\"Данное расположение ферзей является решением задачи 8 дам! \")\n",
        "else:\n",
        "    print(\"Данное расположение ферзей не является решением задачи 8 дам.\")\n",
        "\n",
        "print_board(queens_prob.get_seed())\n",
        "print_board(best_individual)"
      ]
    },
    {
      "cell_type": "markdown",
      "source": [
        "Документация библиотеки PyGMO\n",
        "https://esa.github.io/pygmo/"
      ],
      "metadata": {
        "id": "Y40F0VoKsY2r"
      }
    },
    {
      "cell_type": "markdown",
      "source": [
        "https://ru.wikipedia.org/wiki/Задача_о_восьми_ферзях"
      ],
      "metadata": {
        "id": "cjXSPe2-sVb2"
      }
    },
    {
      "cell_type": "code",
      "source": [],
      "metadata": {
        "id": "6AMHGs9g-kW-"
      },
      "execution_count": null,
      "outputs": []
    }
  ],
  "metadata": {
    "colab": {
      "provenance": []
    },
    "kernelspec": {
      "display_name": "Python 3",
      "name": "python3"
    },
    "language_info": {
      "name": "python"
    }
  },
  "nbformat": 4,
  "nbformat_minor": 0
}